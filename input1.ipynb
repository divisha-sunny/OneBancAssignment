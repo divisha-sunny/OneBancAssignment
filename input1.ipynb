{
 "cells": [
  {
   "cell_type": "code",
   "execution_count": 448,
   "metadata": {},
   "outputs": [],
   "source": [
    "import pandas as pd\n",
    "import numpy as np\n",
    "from datetime import datetime"
   ]
  },
  {
   "cell_type": "code",
   "execution_count": 449,
   "metadata": {},
   "outputs": [],
   "source": [
    "input1 = pd.read_csv('Interview_Fresher_Any_Language\\HDFC-Input-Case1.csv', sep='\\t', header=None)\n",
    "input1.columns = ['Information']\n",
    "\n",
    "input2 = pd.read_csv('Interview_Fresher_Any_Language\\ICICI-Input-Case2.csv', sep='\\t', header=None)\n",
    "input2.columns = ['Information']\n",
    "\n",
    "input3 = pd.read_csv('Interview_Fresher_Any_Language\\Axis-Input-Case3.csv', sep='\\t', header=None)\n",
    "input3.columns = ['Information']\n",
    "\n",
    "input4 = pd.read_csv('Interview_Fresher_Any_Language\\IDFC-Input-Case4.csv', sep='\\t', header=None)\n",
    "input4.columns = ['Information']"
   ]
  },
  {
   "cell_type": "code",
   "execution_count": 450,
   "metadata": {},
   "outputs": [
    {
     "output_type": "execute_result",
     "data": {
      "text/plain": "          Date                   Transaction_Desciption     Debit  Credit  \\\n0   12-01-2018      STIC TRAVELS PVT LTD DELHI           32256 cr       0   \n1   13-01-2018      FLIPKART INTERNET PRIVATE BANGALORE    211687       0   \n2   14-01-2018      FLEMINGO DUTY FREE Mumbai            18796.99       0   \n3   14-01-2018      AIRTEL PAYMENT MUMBAI                    1297       0   \n4   14-01-2018      AIRTEL PAYMENT CHENNAI                 902 cr       0   \n5   17-01-2018      PAYTM NOIDA                               165       0   \n6   17-01-2018      BIKANERVALA GURGAON                       325       0   \n7   19-01-2018      VFS GLOBAL SERVICES PVT MUMBAI           1200       0   \n8   21-01-2018      Amazon Seller Services BANGALORE      2155 cr       0   \n9   13-01-2018  SRILANKANUPGRADE KATUNAYAKE         EUR         6       0   \n10  14-01-2018  HEALTHGUARD LIMITED KATUNAYAKE      USD      5 cr       0   \n11  14-01-2018     FOOT RUB BERLIN                  EUR        20       0   \n12  20-01-2018  California Games CALIFORNIA         USD       100       0   \n13  30-01-2018  NewYorkShop NEWYORK                 USD    200 cr       0   \n14  08-02-2018  EURO WINGS DUSSELDOR                EUR         5       0   \n\n   CardName    Transaction  \n0     Rahul       Domestic  \n1     Rahul       Domestic  \n2     Rahul       Domestic  \n3     Rahul       Domestic  \n4     Rahul       Domestic  \n5      Ritu       Domestic  \n6      Ritu       Domestic  \n7      Ritu       Domestic  \n8      Ritu       Domestic  \n9     Rahul  International  \n10    Rahul  International  \n11    Rahul  International  \n12    Rahul  International  \n13    Rahul  International  \n14    Rahul  International  ",
      "text/html": "<div>\n<style scoped>\n    .dataframe tbody tr th:only-of-type {\n        vertical-align: middle;\n    }\n\n    .dataframe tbody tr th {\n        vertical-align: top;\n    }\n\n    .dataframe thead th {\n        text-align: right;\n    }\n</style>\n<table border=\"1\" class=\"dataframe\">\n  <thead>\n    <tr style=\"text-align: right;\">\n      <th></th>\n      <th>Date</th>\n      <th>Transaction_Desciption</th>\n      <th>Debit</th>\n      <th>Credit</th>\n      <th>CardName</th>\n      <th>Transaction</th>\n    </tr>\n  </thead>\n  <tbody>\n    <tr>\n      <th>0</th>\n      <td>12-01-2018</td>\n      <td>STIC TRAVELS PVT LTD DELHI</td>\n      <td>32256 cr</td>\n      <td>0</td>\n      <td>Rahul</td>\n      <td>Domestic</td>\n    </tr>\n    <tr>\n      <th>1</th>\n      <td>13-01-2018</td>\n      <td>FLIPKART INTERNET PRIVATE BANGALORE</td>\n      <td>211687</td>\n      <td>0</td>\n      <td>Rahul</td>\n      <td>Domestic</td>\n    </tr>\n    <tr>\n      <th>2</th>\n      <td>14-01-2018</td>\n      <td>FLEMINGO DUTY FREE Mumbai</td>\n      <td>18796.99</td>\n      <td>0</td>\n      <td>Rahul</td>\n      <td>Domestic</td>\n    </tr>\n    <tr>\n      <th>3</th>\n      <td>14-01-2018</td>\n      <td>AIRTEL PAYMENT MUMBAI</td>\n      <td>1297</td>\n      <td>0</td>\n      <td>Rahul</td>\n      <td>Domestic</td>\n    </tr>\n    <tr>\n      <th>4</th>\n      <td>14-01-2018</td>\n      <td>AIRTEL PAYMENT CHENNAI</td>\n      <td>902 cr</td>\n      <td>0</td>\n      <td>Rahul</td>\n      <td>Domestic</td>\n    </tr>\n    <tr>\n      <th>5</th>\n      <td>17-01-2018</td>\n      <td>PAYTM NOIDA</td>\n      <td>165</td>\n      <td>0</td>\n      <td>Ritu</td>\n      <td>Domestic</td>\n    </tr>\n    <tr>\n      <th>6</th>\n      <td>17-01-2018</td>\n      <td>BIKANERVALA GURGAON</td>\n      <td>325</td>\n      <td>0</td>\n      <td>Ritu</td>\n      <td>Domestic</td>\n    </tr>\n    <tr>\n      <th>7</th>\n      <td>19-01-2018</td>\n      <td>VFS GLOBAL SERVICES PVT MUMBAI</td>\n      <td>1200</td>\n      <td>0</td>\n      <td>Ritu</td>\n      <td>Domestic</td>\n    </tr>\n    <tr>\n      <th>8</th>\n      <td>21-01-2018</td>\n      <td>Amazon Seller Services BANGALORE</td>\n      <td>2155 cr</td>\n      <td>0</td>\n      <td>Ritu</td>\n      <td>Domestic</td>\n    </tr>\n    <tr>\n      <th>9</th>\n      <td>13-01-2018</td>\n      <td>SRILANKANUPGRADE KATUNAYAKE         EUR</td>\n      <td>6</td>\n      <td>0</td>\n      <td>Rahul</td>\n      <td>International</td>\n    </tr>\n    <tr>\n      <th>10</th>\n      <td>14-01-2018</td>\n      <td>HEALTHGUARD LIMITED KATUNAYAKE      USD</td>\n      <td>5 cr</td>\n      <td>0</td>\n      <td>Rahul</td>\n      <td>International</td>\n    </tr>\n    <tr>\n      <th>11</th>\n      <td>14-01-2018</td>\n      <td>FOOT RUB BERLIN                  EUR</td>\n      <td>20</td>\n      <td>0</td>\n      <td>Rahul</td>\n      <td>International</td>\n    </tr>\n    <tr>\n      <th>12</th>\n      <td>20-01-2018</td>\n      <td>California Games CALIFORNIA         USD</td>\n      <td>100</td>\n      <td>0</td>\n      <td>Rahul</td>\n      <td>International</td>\n    </tr>\n    <tr>\n      <th>13</th>\n      <td>30-01-2018</td>\n      <td>NewYorkShop NEWYORK                 USD</td>\n      <td>200 cr</td>\n      <td>0</td>\n      <td>Rahul</td>\n      <td>International</td>\n    </tr>\n    <tr>\n      <th>14</th>\n      <td>08-02-2018</td>\n      <td>EURO WINGS DUSSELDOR                EUR</td>\n      <td>5</td>\n      <td>0</td>\n      <td>Rahul</td>\n      <td>International</td>\n    </tr>\n  </tbody>\n</table>\n</div>"
     },
     "metadata": {},
     "execution_count": 450
    }
   ],
   "source": [
    "input1[['Date','Transaction_Desciption','Debit']] = input1.Information.str.split(\",\",expand=True,)\n",
    "del input1['Information']\n",
    "inputa=input1[4:9]\n",
    "inputa[\"Credit\"] = 0\n",
    "inputa[\"CardName\"] = \"Rahul\"\n",
    "inputa[\"Transaction\"] = \"Domestic\"\n",
    "inputb = input1[20:26]\n",
    "inputb[\"Credit\"] = 0\n",
    "inputb[\"CardName\"] = \"Rahul\"\n",
    "inputb[\"Transaction\"] = \"International\"\n",
    "inputc = input1[12:16]\n",
    "inputc[\"Credit\"] = 0\n",
    "inputc[\"CardName\"] = \"Ritu\"\n",
    "inputc[\"Transaction\"] = \"Domestic\"\n",
    "answere = inputa.append(inputc, ignore_index=True)\n",
    "answere1 = answere.append(inputb, ignore_index=True)\n",
    "answere1\n",
    "#answere1.to_csv('HDFC-Output-Case1.csv')"
   ]
  },
  {
   "cell_type": "code",
   "execution_count": 451,
   "metadata": {},
   "outputs": [
    {
     "output_type": "execute_result",
     "data": {
      "text/plain": "          Date                      Transaction_Details  Debit Credit  \\\n0   28-01-2018         INDIAN RAILWAY CATERINGNEW DELHI   1099          \n1   28-01-2018        FLIPKART INTERNET PRIVA BANGALORE  34980          \n2   28-01-2018                    TIPSY CATERERS JAIPUR    660          \n3   29-01-2018        MAKEMYTRIP INDIA PVT LT NEW DELHI  57181          \n4   29-01-2018         INDIAN RAILWAY CATERINGNEW DELHI          3390   \n5   29-01-2018        MAKEMYTRIP INDIA PVT LT NEW DELHI         53326   \n6   30-01-2018        INDIAN RAILWAY CATERING NEW DELHI           680   \n7   22-02-2018                          FEETOES GURGAON          1845   \n8   18-02-2018           DECATHLON SPORTS INDIA GURGAON    949          \n9   09-02-2018         SILVER GALERIE A UNIT    GURGAON   1250          \n10  31-02-2018          DNA PHARMACY           GURUGRAM          1650   \n11  26-02-2018           MONTE CARLO            GURGAON           413   \n12  30-02-2018           THE ROOM               GURGAON           456   \n13  30-02-2018           LITTLE BURGUNDY        GURGAON   1938          \n14  13-01-2018  SRILANKANUPGRADE KATUNAYAKE         EUR      9          \n15  14-01-2018  HEALTHGUARD LIMITED KATUNAYAKE      USD             6   \n16  17-01-2018     FOOT RUB BERLIN                  EUR     19          \n17  28-01-2018  California Games CALIFORNIA         USD    108          \n18  30-01-2018  NewYorkShop NEWYORK                 USD    219          \n19  03-02-2018  EURO WINGS DUSSELDOR                EUR      8          \n\n   CardName    Transaction  \n0     Rahul       Domestic  \n1     Rahul       Domestic  \n2     Rahul       Domestic  \n3     Rahul       Domestic  \n4     Rahul       Domestic  \n5     Rahul       Domestic  \n6     Rahul       Domestic  \n7      Ritu       Domestic  \n8      Ritu       Domestic  \n9      Ritu       Domestic  \n10     Ritu       Domestic  \n11     Ritu       Domestic  \n12     Ritu       Domestic  \n13     Ritu       Domestic  \n14    Rahul  International  \n15    Rahul  International  \n16    Rahul  International  \n17    Rahul  International  \n18    Rahul  International  \n19    Rahul  International  ",
      "text/html": "<div>\n<style scoped>\n    .dataframe tbody tr th:only-of-type {\n        vertical-align: middle;\n    }\n\n    .dataframe tbody tr th {\n        vertical-align: top;\n    }\n\n    .dataframe thead th {\n        text-align: right;\n    }\n</style>\n<table border=\"1\" class=\"dataframe\">\n  <thead>\n    <tr style=\"text-align: right;\">\n      <th></th>\n      <th>Date</th>\n      <th>Transaction_Details</th>\n      <th>Debit</th>\n      <th>Credit</th>\n      <th>CardName</th>\n      <th>Transaction</th>\n    </tr>\n  </thead>\n  <tbody>\n    <tr>\n      <th>0</th>\n      <td>28-01-2018</td>\n      <td>INDIAN RAILWAY CATERINGNEW DELHI</td>\n      <td>1099</td>\n      <td></td>\n      <td>Rahul</td>\n      <td>Domestic</td>\n    </tr>\n    <tr>\n      <th>1</th>\n      <td>28-01-2018</td>\n      <td>FLIPKART INTERNET PRIVA BANGALORE</td>\n      <td>34980</td>\n      <td></td>\n      <td>Rahul</td>\n      <td>Domestic</td>\n    </tr>\n    <tr>\n      <th>2</th>\n      <td>28-01-2018</td>\n      <td>TIPSY CATERERS JAIPUR</td>\n      <td>660</td>\n      <td></td>\n      <td>Rahul</td>\n      <td>Domestic</td>\n    </tr>\n    <tr>\n      <th>3</th>\n      <td>29-01-2018</td>\n      <td>MAKEMYTRIP INDIA PVT LT NEW DELHI</td>\n      <td>57181</td>\n      <td></td>\n      <td>Rahul</td>\n      <td>Domestic</td>\n    </tr>\n    <tr>\n      <th>4</th>\n      <td>29-01-2018</td>\n      <td>INDIAN RAILWAY CATERINGNEW DELHI</td>\n      <td></td>\n      <td>3390</td>\n      <td>Rahul</td>\n      <td>Domestic</td>\n    </tr>\n    <tr>\n      <th>5</th>\n      <td>29-01-2018</td>\n      <td>MAKEMYTRIP INDIA PVT LT NEW DELHI</td>\n      <td></td>\n      <td>53326</td>\n      <td>Rahul</td>\n      <td>Domestic</td>\n    </tr>\n    <tr>\n      <th>6</th>\n      <td>30-01-2018</td>\n      <td>INDIAN RAILWAY CATERING NEW DELHI</td>\n      <td></td>\n      <td>680</td>\n      <td>Rahul</td>\n      <td>Domestic</td>\n    </tr>\n    <tr>\n      <th>7</th>\n      <td>22-02-2018</td>\n      <td>FEETOES GURGAON</td>\n      <td></td>\n      <td>1845</td>\n      <td>Ritu</td>\n      <td>Domestic</td>\n    </tr>\n    <tr>\n      <th>8</th>\n      <td>18-02-2018</td>\n      <td>DECATHLON SPORTS INDIA GURGAON</td>\n      <td>949</td>\n      <td></td>\n      <td>Ritu</td>\n      <td>Domestic</td>\n    </tr>\n    <tr>\n      <th>9</th>\n      <td>09-02-2018</td>\n      <td>SILVER GALERIE A UNIT    GURGAON</td>\n      <td>1250</td>\n      <td></td>\n      <td>Ritu</td>\n      <td>Domestic</td>\n    </tr>\n    <tr>\n      <th>10</th>\n      <td>31-02-2018</td>\n      <td>DNA PHARMACY           GURUGRAM</td>\n      <td></td>\n      <td>1650</td>\n      <td>Ritu</td>\n      <td>Domestic</td>\n    </tr>\n    <tr>\n      <th>11</th>\n      <td>26-02-2018</td>\n      <td>MONTE CARLO            GURGAON</td>\n      <td></td>\n      <td>413</td>\n      <td>Ritu</td>\n      <td>Domestic</td>\n    </tr>\n    <tr>\n      <th>12</th>\n      <td>30-02-2018</td>\n      <td>THE ROOM               GURGAON</td>\n      <td></td>\n      <td>456</td>\n      <td>Ritu</td>\n      <td>Domestic</td>\n    </tr>\n    <tr>\n      <th>13</th>\n      <td>30-02-2018</td>\n      <td>LITTLE BURGUNDY        GURGAON</td>\n      <td>1938</td>\n      <td></td>\n      <td>Ritu</td>\n      <td>Domestic</td>\n    </tr>\n    <tr>\n      <th>14</th>\n      <td>13-01-2018</td>\n      <td>SRILANKANUPGRADE KATUNAYAKE         EUR</td>\n      <td>9</td>\n      <td></td>\n      <td>Rahul</td>\n      <td>International</td>\n    </tr>\n    <tr>\n      <th>15</th>\n      <td>14-01-2018</td>\n      <td>HEALTHGUARD LIMITED KATUNAYAKE      USD</td>\n      <td></td>\n      <td>6</td>\n      <td>Rahul</td>\n      <td>International</td>\n    </tr>\n    <tr>\n      <th>16</th>\n      <td>17-01-2018</td>\n      <td>FOOT RUB BERLIN                  EUR</td>\n      <td>19</td>\n      <td></td>\n      <td>Rahul</td>\n      <td>International</td>\n    </tr>\n    <tr>\n      <th>17</th>\n      <td>28-01-2018</td>\n      <td>California Games CALIFORNIA         USD</td>\n      <td>108</td>\n      <td></td>\n      <td>Rahul</td>\n      <td>International</td>\n    </tr>\n    <tr>\n      <th>18</th>\n      <td>30-01-2018</td>\n      <td>NewYorkShop NEWYORK                 USD</td>\n      <td>219</td>\n      <td></td>\n      <td>Rahul</td>\n      <td>International</td>\n    </tr>\n    <tr>\n      <th>19</th>\n      <td>03-02-2018</td>\n      <td>EURO WINGS DUSSELDOR                EUR</td>\n      <td>8</td>\n      <td></td>\n      <td>Rahul</td>\n      <td>International</td>\n    </tr>\n  </tbody>\n</table>\n</div>"
     },
     "metadata": {},
     "execution_count": 451
    }
   ],
   "source": [
    "input3[['Date','Debit','Credit','Transaction_Details']] = input3.Information.str.split(\",\",expand=True,)\n",
    "del input3['Information']\n",
    "input3a = input3[4:11]\n",
    "input3a[\"CardName\"] = \"Rahul\"\n",
    "input3a[\"Transaction\"] = \"Domestic\"\n",
    "input3b = input3[15:22]\n",
    "input3b[\"CardName\"] = \"Ritu\"\n",
    "input3b[\"Transaction\"] = \"Domestic\"\n",
    "input3c = input3[28:34]\n",
    "input3c[\"CardName\"] = \"Rahul\"\n",
    "input3c[\"Transaction\"] = \"International\"\n",
    "answere_a = input3a.append(input3b, ignore_index=True)\n",
    "answere2 = answere_a.append(input3c, ignore_index=True)\n",
    "answere2 = answere2[['Date','Transaction_Details','Debit','Credit','CardName','Transaction']]\n",
    "answere2\n",
    "#answere2.to_csv('Axis-Output-Case3.csv')"
   ]
  },
  {
   "cell_type": "code",
   "execution_count": 452,
   "metadata": {},
   "outputs": [
    {
     "output_type": "execute_result",
     "data": {
      "text/plain": "          Date                   Transaction_Desciption   Debit  Credit  \\\n0   13-12-2017       JUNOON RESTRO GURGAON                 1255       0   \n1   16-12-2017       POONAM SERVICE STATION GURGAON       17 Cr       0   \n2   16-12-2017       KABI BESPOKE BOUTIQUE GURGAON          220       0   \n3   16-12-2017      CLEARTRIP TRAVEL SERVIC MUMBAI        14849       0   \n4   21-12-2017       INDIAN RAILWAY CATERINGNEW DELHI      1684       0   \n5   22-12-2017      CLEARTRIP TRAVEL SERVIC MUMBAI         5205       0   \n6   22-12-2017       MSW*BLISS HOSPITALITIE Delhi NCR      3764       0   \n7   23-12-2017       NIMITAYA HOTEL & RESOR GURGAON        3475       0   \n8   24-12-2017       BIKANERVALA (GURGAON U) GURGAON        278       0   \n9   02-01-2018       THAI CHI STREETGURGAON                 987       0   \n10  02-01-2018       AMAZON PAY BANGALORE                  1875       0   \n11  04-01-2018       SHAHEED MANOHAR LAL FIL GURGAON      18 Cr       0   \n12  08-01-2018       BIKANERVALA (GURGAON U GURGAON         420       0   \n13  09-01-2018       MOPS-SBC-CR-CARD-E MUMBAI           500000       0   \n14  12-12-2017       SHOPPERS STOP LTD GURGAON             2886       0   \n15  12-12-2017       MORE MEGASTORE GURGAON                1500       0   \n16  13-12-2017       SHAHEED MANOHAR LAL FIL  GURGAON      1968       0   \n17  13-12-2017       LIVE PHARMACY GURGAON                  627       0   \n18  13-01-2018  SRILANKANUPGRADE KATUNAYAKE         EUR      10       0   \n19  01-14-2018  HEALTHGUARD LIMITED KATUNAYAKE      USD    8 cr       0   \n20  01-14-2018  FOOT RUB BERLIN                     EUR      21       0   \n21  01-20-2018  California Games CALIFORNIA         USD     101       0   \n22  01-30-2018  NewYorkShop NEWYORK                 USD     199       0   \n23  02-08-2018  EURO WINGS DUSSELDOR                EUR      10       0   \n\n   CardName    Transaction  \n0     Rahul       Domestic  \n1     Rahul       Domestic  \n2     Rahul       Domestic  \n3     Rahul       Domestic  \n4     Rahul       Domestic  \n5     Rahul       Domestic  \n6     Rahul       Domestic  \n7     Rahul       Domestic  \n8     Rahul       Domestic  \n9     Rajat       Domestic  \n10    Rajat       Domestic  \n11    Rajat       Domestic  \n12    Rajat       Domestic  \n13    Rajat       Domestic  \n14    Rajat       Domestic  \n15    Rajat       Domestic  \n16    Rajat       Domestic  \n17    Rajat       Domestic  \n18    Rahul  International  \n19    Rahul  International  \n20    Rahul  International  \n21    Rahul  International  \n22    Rahul  International  \n23    Rahul  International  ",
      "text/html": "<div>\n<style scoped>\n    .dataframe tbody tr th:only-of-type {\n        vertical-align: middle;\n    }\n\n    .dataframe tbody tr th {\n        vertical-align: top;\n    }\n\n    .dataframe thead th {\n        text-align: right;\n    }\n</style>\n<table border=\"1\" class=\"dataframe\">\n  <thead>\n    <tr style=\"text-align: right;\">\n      <th></th>\n      <th>Date</th>\n      <th>Transaction_Desciption</th>\n      <th>Debit</th>\n      <th>Credit</th>\n      <th>CardName</th>\n      <th>Transaction</th>\n    </tr>\n  </thead>\n  <tbody>\n    <tr>\n      <th>0</th>\n      <td>13-12-2017</td>\n      <td>JUNOON RESTRO GURGAON</td>\n      <td>1255</td>\n      <td>0</td>\n      <td>Rahul</td>\n      <td>Domestic</td>\n    </tr>\n    <tr>\n      <th>1</th>\n      <td>16-12-2017</td>\n      <td>POONAM SERVICE STATION GURGAON</td>\n      <td>17 Cr</td>\n      <td>0</td>\n      <td>Rahul</td>\n      <td>Domestic</td>\n    </tr>\n    <tr>\n      <th>2</th>\n      <td>16-12-2017</td>\n      <td>KABI BESPOKE BOUTIQUE GURGAON</td>\n      <td>220</td>\n      <td>0</td>\n      <td>Rahul</td>\n      <td>Domestic</td>\n    </tr>\n    <tr>\n      <th>3</th>\n      <td>16-12-2017</td>\n      <td>CLEARTRIP TRAVEL SERVIC MUMBAI</td>\n      <td>14849</td>\n      <td>0</td>\n      <td>Rahul</td>\n      <td>Domestic</td>\n    </tr>\n    <tr>\n      <th>4</th>\n      <td>21-12-2017</td>\n      <td>INDIAN RAILWAY CATERINGNEW DELHI</td>\n      <td>1684</td>\n      <td>0</td>\n      <td>Rahul</td>\n      <td>Domestic</td>\n    </tr>\n    <tr>\n      <th>5</th>\n      <td>22-12-2017</td>\n      <td>CLEARTRIP TRAVEL SERVIC MUMBAI</td>\n      <td>5205</td>\n      <td>0</td>\n      <td>Rahul</td>\n      <td>Domestic</td>\n    </tr>\n    <tr>\n      <th>6</th>\n      <td>22-12-2017</td>\n      <td>MSW*BLISS HOSPITALITIE Delhi NCR</td>\n      <td>3764</td>\n      <td>0</td>\n      <td>Rahul</td>\n      <td>Domestic</td>\n    </tr>\n    <tr>\n      <th>7</th>\n      <td>23-12-2017</td>\n      <td>NIMITAYA HOTEL &amp; RESOR GURGAON</td>\n      <td>3475</td>\n      <td>0</td>\n      <td>Rahul</td>\n      <td>Domestic</td>\n    </tr>\n    <tr>\n      <th>8</th>\n      <td>24-12-2017</td>\n      <td>BIKANERVALA (GURGAON U) GURGAON</td>\n      <td>278</td>\n      <td>0</td>\n      <td>Rahul</td>\n      <td>Domestic</td>\n    </tr>\n    <tr>\n      <th>9</th>\n      <td>02-01-2018</td>\n      <td>THAI CHI STREETGURGAON</td>\n      <td>987</td>\n      <td>0</td>\n      <td>Rajat</td>\n      <td>Domestic</td>\n    </tr>\n    <tr>\n      <th>10</th>\n      <td>02-01-2018</td>\n      <td>AMAZON PAY BANGALORE</td>\n      <td>1875</td>\n      <td>0</td>\n      <td>Rajat</td>\n      <td>Domestic</td>\n    </tr>\n    <tr>\n      <th>11</th>\n      <td>04-01-2018</td>\n      <td>SHAHEED MANOHAR LAL FIL GURGAON</td>\n      <td>18 Cr</td>\n      <td>0</td>\n      <td>Rajat</td>\n      <td>Domestic</td>\n    </tr>\n    <tr>\n      <th>12</th>\n      <td>08-01-2018</td>\n      <td>BIKANERVALA (GURGAON U GURGAON</td>\n      <td>420</td>\n      <td>0</td>\n      <td>Rajat</td>\n      <td>Domestic</td>\n    </tr>\n    <tr>\n      <th>13</th>\n      <td>09-01-2018</td>\n      <td>MOPS-SBC-CR-CARD-E MUMBAI</td>\n      <td>500000</td>\n      <td>0</td>\n      <td>Rajat</td>\n      <td>Domestic</td>\n    </tr>\n    <tr>\n      <th>14</th>\n      <td>12-12-2017</td>\n      <td>SHOPPERS STOP LTD GURGAON</td>\n      <td>2886</td>\n      <td>0</td>\n      <td>Rajat</td>\n      <td>Domestic</td>\n    </tr>\n    <tr>\n      <th>15</th>\n      <td>12-12-2017</td>\n      <td>MORE MEGASTORE GURGAON</td>\n      <td>1500</td>\n      <td>0</td>\n      <td>Rajat</td>\n      <td>Domestic</td>\n    </tr>\n    <tr>\n      <th>16</th>\n      <td>13-12-2017</td>\n      <td>SHAHEED MANOHAR LAL FIL  GURGAON</td>\n      <td>1968</td>\n      <td>0</td>\n      <td>Rajat</td>\n      <td>Domestic</td>\n    </tr>\n    <tr>\n      <th>17</th>\n      <td>13-12-2017</td>\n      <td>LIVE PHARMACY GURGAON</td>\n      <td>627</td>\n      <td>0</td>\n      <td>Rajat</td>\n      <td>Domestic</td>\n    </tr>\n    <tr>\n      <th>18</th>\n      <td>13-01-2018</td>\n      <td>SRILANKANUPGRADE KATUNAYAKE         EUR</td>\n      <td>10</td>\n      <td>0</td>\n      <td>Rahul</td>\n      <td>International</td>\n    </tr>\n    <tr>\n      <th>19</th>\n      <td>01-14-2018</td>\n      <td>HEALTHGUARD LIMITED KATUNAYAKE      USD</td>\n      <td>8 cr</td>\n      <td>0</td>\n      <td>Rahul</td>\n      <td>International</td>\n    </tr>\n    <tr>\n      <th>20</th>\n      <td>01-14-2018</td>\n      <td>FOOT RUB BERLIN                     EUR</td>\n      <td>21</td>\n      <td>0</td>\n      <td>Rahul</td>\n      <td>International</td>\n    </tr>\n    <tr>\n      <th>21</th>\n      <td>01-20-2018</td>\n      <td>California Games CALIFORNIA         USD</td>\n      <td>101</td>\n      <td>0</td>\n      <td>Rahul</td>\n      <td>International</td>\n    </tr>\n    <tr>\n      <th>22</th>\n      <td>01-30-2018</td>\n      <td>NewYorkShop NEWYORK                 USD</td>\n      <td>199</td>\n      <td>0</td>\n      <td>Rahul</td>\n      <td>International</td>\n    </tr>\n    <tr>\n      <th>23</th>\n      <td>02-08-2018</td>\n      <td>EURO WINGS DUSSELDOR                EUR</td>\n      <td>10</td>\n      <td>0</td>\n      <td>Rahul</td>\n      <td>International</td>\n    </tr>\n  </tbody>\n</table>\n</div>"
     },
     "metadata": {},
     "execution_count": 452
    }
   ],
   "source": [
    "a=input4[6:9]\n",
    "a[['Transaction_Desciption','Date','Debit']] = a.Information.str.split(\",\",expand=True,)\n",
    "del a['Information']\n",
    "b=input4[10:16]\n",
    "b[['Transaction_Desciption','Date','Debit']] = b.Information.str.split(\",\",expand=True,)\n",
    "del b['Information']\n",
    "ab = a.append(b, ignore_index=True)\n",
    "ab[\"CardName\"] = \"Rahul\"\n",
    "ab[\"Transaction\"] = \"Domestic\"\n",
    "c=input4[22:28]\n",
    "d=input4[29:32]\n",
    "c[['Transaction_Desciption','Date','Debit']] = c.Information.str.split(\",\",expand=True,)\n",
    "del c['Information']\n",
    "d[['Transaction_Desciption','Date','Debit']] = d.Information.str.split(\",\",expand=True,)\n",
    "del d['Information']\n",
    "cd = c.append(d, ignore_index=True)\n",
    "cd[\"CardName\"] = \"Rajat\"\n",
    "cd[\"Transaction\"] = \"Domestic\"\n",
    "e = input4[37:43]\n",
    "e[['Transaction_Desciption','Date','Debit']] = e.Information.str.split(\",\",expand=True,)\n",
    "del e['Information']\n",
    "e[\"CardName\"] = \"Rahul\"\n",
    "e[\"Transaction\"] = \"International\"\n",
    "f = ab.append(cd, ignore_index=True)\n",
    "answere3 = f.append(e, ignore_index=True)\n",
    "answere3[\"Credit\"] = 0\n",
    "answere3 = answere3[['Date','Transaction_Desciption','Debit','Credit','CardName','Transaction']]\n",
    "answere3\n",
    "#answere3.to_csv('IDFC-Output-Case4.csv')"
   ]
  },
  {
   "cell_type": "code",
   "execution_count": 453,
   "metadata": {},
   "outputs": [
    {
     "output_type": "execute_result",
     "data": {
      "text/plain": "          Date                   Transaction_Desciption                 Debit  \\\n0   12-03-2018      Amazon Cash Back Jan 18                               213   \n1   16-03-2018      SUBWAY GURGAON                                              \n2   18-03-2018      NIMITAYA HOTEL & RESOR GURGAON                              \n3   18-03-2018      BIRYANI PARADISE GURGAON                                    \n4   19-03-2018      AIRTEL PAYMENT MUMBAI                                 880   \n5   19-03-2018                           AIRTEL PAYMENT  MUMBAI                 \n6   19-03-2018      AMAZON SELLER SERVICES MUMBAI                       41499   \n7   19-03-2018      ICICI PRUDENTIAL LIFE MUMBAI                        35935   \n8   20-03-2018      CARNIVAL CINEMAS NEEMU GURGAON                        110   \n9   23-03-2018      BIRYANI PARADISE GURGAON                              219   \n10  25-03-2018      SRS CINEMAS GURGAON                                         \n11  25-03-2018      SRS CINEMAS GURGAON                                         \n12  25-03-2018      NIMITAYA HOTEL & RESOR GURGAON                       3414   \n13  26-03-2018      KABI BESPOKE BOUTIQUE GURGAON                               \n14  27-03-2018      PAYTM NOIDA                                          2941   \n15  27-03-2018      AMAZON SELLER SERVICES MUMBAI                         416   \n16  28-03-2018      www.vodafone.in MUMBAI                                500   \n17  30-01-2017  SRILANKANUPGRADE KATUNAYAKE         EUR                     6   \n18  14-01-2018  HEALTHGUARD LIMITED KATUNAYAKE      USD                         \n19  19-01-2018     FOOT RUB BERLIN                  EUR                    26   \n20  20-01-2018  California Games CALIFORNIA         USD                   107   \n21  30-01-2018  NewYorkShop NEWYORK                 USD                   210   \n22  08-02-2018  EURO WINGS DUSSELDOR                EUR                    15   \n\n   Credit CardName    Transaction  \n0            Rahul       Domestic  \n1     230    Rahul       Domestic  \n2    3415    Rahul       Domestic  \n3     335    Rahul       Domestic  \n4            Rahul       Domestic  \n5    1297    Rahul       Domestic  \n6              Raj       Domestic  \n7              Raj       Domestic  \n8              Raj       Domestic  \n9              Raj       Domestic  \n10    155      Raj       Domestic  \n11   1440      Raj       Domestic  \n12             Raj       Domestic  \n13    270      Raj       Domestic  \n14             Raj       Domestic  \n15             Raj       Domestic  \n16      0      Raj       Domestic  \n17             Raj  International  \n18     15      Raj  International  \n19             Raj  International  \n20             Raj  International  \n21             Raj  International  \n22             Raj  International  ",
      "text/html": "<div>\n<style scoped>\n    .dataframe tbody tr th:only-of-type {\n        vertical-align: middle;\n    }\n\n    .dataframe tbody tr th {\n        vertical-align: top;\n    }\n\n    .dataframe thead th {\n        text-align: right;\n    }\n</style>\n<table border=\"1\" class=\"dataframe\">\n  <thead>\n    <tr style=\"text-align: right;\">\n      <th></th>\n      <th>Date</th>\n      <th>Transaction_Desciption</th>\n      <th>Debit</th>\n      <th>Credit</th>\n      <th>CardName</th>\n      <th>Transaction</th>\n    </tr>\n  </thead>\n  <tbody>\n    <tr>\n      <th>0</th>\n      <td>12-03-2018</td>\n      <td>Amazon Cash Back Jan 18</td>\n      <td>213</td>\n      <td></td>\n      <td>Rahul</td>\n      <td>Domestic</td>\n    </tr>\n    <tr>\n      <th>1</th>\n      <td>16-03-2018</td>\n      <td>SUBWAY GURGAON</td>\n      <td></td>\n      <td>230</td>\n      <td>Rahul</td>\n      <td>Domestic</td>\n    </tr>\n    <tr>\n      <th>2</th>\n      <td>18-03-2018</td>\n      <td>NIMITAYA HOTEL &amp; RESOR GURGAON</td>\n      <td></td>\n      <td>3415</td>\n      <td>Rahul</td>\n      <td>Domestic</td>\n    </tr>\n    <tr>\n      <th>3</th>\n      <td>18-03-2018</td>\n      <td>BIRYANI PARADISE GURGAON</td>\n      <td></td>\n      <td>335</td>\n      <td>Rahul</td>\n      <td>Domestic</td>\n    </tr>\n    <tr>\n      <th>4</th>\n      <td>19-03-2018</td>\n      <td>AIRTEL PAYMENT MUMBAI</td>\n      <td>880</td>\n      <td></td>\n      <td>Rahul</td>\n      <td>Domestic</td>\n    </tr>\n    <tr>\n      <th>5</th>\n      <td>19-03-2018</td>\n      <td>AIRTEL PAYMENT</td>\n      <td>MUMBAI</td>\n      <td>1297</td>\n      <td>Rahul</td>\n      <td>Domestic</td>\n    </tr>\n    <tr>\n      <th>6</th>\n      <td>19-03-2018</td>\n      <td>AMAZON SELLER SERVICES MUMBAI</td>\n      <td>41499</td>\n      <td></td>\n      <td>Raj</td>\n      <td>Domestic</td>\n    </tr>\n    <tr>\n      <th>7</th>\n      <td>19-03-2018</td>\n      <td>ICICI PRUDENTIAL LIFE MUMBAI</td>\n      <td>35935</td>\n      <td></td>\n      <td>Raj</td>\n      <td>Domestic</td>\n    </tr>\n    <tr>\n      <th>8</th>\n      <td>20-03-2018</td>\n      <td>CARNIVAL CINEMAS NEEMU GURGAON</td>\n      <td>110</td>\n      <td></td>\n      <td>Raj</td>\n      <td>Domestic</td>\n    </tr>\n    <tr>\n      <th>9</th>\n      <td>23-03-2018</td>\n      <td>BIRYANI PARADISE GURGAON</td>\n      <td>219</td>\n      <td></td>\n      <td>Raj</td>\n      <td>Domestic</td>\n    </tr>\n    <tr>\n      <th>10</th>\n      <td>25-03-2018</td>\n      <td>SRS CINEMAS GURGAON</td>\n      <td></td>\n      <td>155</td>\n      <td>Raj</td>\n      <td>Domestic</td>\n    </tr>\n    <tr>\n      <th>11</th>\n      <td>25-03-2018</td>\n      <td>SRS CINEMAS GURGAON</td>\n      <td></td>\n      <td>1440</td>\n      <td>Raj</td>\n      <td>Domestic</td>\n    </tr>\n    <tr>\n      <th>12</th>\n      <td>25-03-2018</td>\n      <td>NIMITAYA HOTEL &amp; RESOR GURGAON</td>\n      <td>3414</td>\n      <td></td>\n      <td>Raj</td>\n      <td>Domestic</td>\n    </tr>\n    <tr>\n      <th>13</th>\n      <td>26-03-2018</td>\n      <td>KABI BESPOKE BOUTIQUE GURGAON</td>\n      <td></td>\n      <td>270</td>\n      <td>Raj</td>\n      <td>Domestic</td>\n    </tr>\n    <tr>\n      <th>14</th>\n      <td>27-03-2018</td>\n      <td>PAYTM NOIDA</td>\n      <td>2941</td>\n      <td></td>\n      <td>Raj</td>\n      <td>Domestic</td>\n    </tr>\n    <tr>\n      <th>15</th>\n      <td>27-03-2018</td>\n      <td>AMAZON SELLER SERVICES MUMBAI</td>\n      <td>416</td>\n      <td></td>\n      <td>Raj</td>\n      <td>Domestic</td>\n    </tr>\n    <tr>\n      <th>16</th>\n      <td>28-03-2018</td>\n      <td>www.vodafone.in MUMBAI</td>\n      <td>500</td>\n      <td>0</td>\n      <td>Raj</td>\n      <td>Domestic</td>\n    </tr>\n    <tr>\n      <th>17</th>\n      <td>30-01-2017</td>\n      <td>SRILANKANUPGRADE KATUNAYAKE         EUR</td>\n      <td>6</td>\n      <td></td>\n      <td>Raj</td>\n      <td>International</td>\n    </tr>\n    <tr>\n      <th>18</th>\n      <td>14-01-2018</td>\n      <td>HEALTHGUARD LIMITED KATUNAYAKE      USD</td>\n      <td></td>\n      <td>15</td>\n      <td>Raj</td>\n      <td>International</td>\n    </tr>\n    <tr>\n      <th>19</th>\n      <td>19-01-2018</td>\n      <td>FOOT RUB BERLIN                  EUR</td>\n      <td>26</td>\n      <td></td>\n      <td>Raj</td>\n      <td>International</td>\n    </tr>\n    <tr>\n      <th>20</th>\n      <td>20-01-2018</td>\n      <td>California Games CALIFORNIA         USD</td>\n      <td>107</td>\n      <td></td>\n      <td>Raj</td>\n      <td>International</td>\n    </tr>\n    <tr>\n      <th>21</th>\n      <td>30-01-2018</td>\n      <td>NewYorkShop NEWYORK                 USD</td>\n      <td>210</td>\n      <td></td>\n      <td>Raj</td>\n      <td>International</td>\n    </tr>\n    <tr>\n      <th>22</th>\n      <td>08-02-2018</td>\n      <td>EURO WINGS DUSSELDOR                EUR</td>\n      <td>15</td>\n      <td></td>\n      <td>Raj</td>\n      <td>International</td>\n    </tr>\n  </tbody>\n</table>\n</div>"
     },
     "metadata": {},
     "execution_count": 453
    }
   ],
   "source": [
    "x = input2[4:10]\n",
    "x[['Date','Transaction_Desciption','Debit','Credit']] = x.Information.str.split(\",\",expand=True,)\n",
    "x[\"CardName\"] = \"Rahul\"\n",
    "y = input2[12:23]\n",
    "y[['Date','Transaction_Desciption','Debit','Credit']] = y.Information.str.split(\",\",expand=True,)\n",
    "y[\"CardName\"] = \"Raj\"\n",
    "del x['Information']\n",
    "del y['Information']\n",
    "y[\"Transaction\"] = \"Domestic\"\n",
    "x[\"Transaction\"] = \"Domestic\"\n",
    "xy = x.append(y, ignore_index=True)\n",
    "z = input2[27:33]\n",
    "z[['Date','Transaction_Desciption','Debit','Credit']] = z.Information.str.split(\",\",expand=True,)\n",
    "del z[\"Information\"]\n",
    "z[\"CardName\"] = \"Raj\"\n",
    "z[\"Transaction\"] = \"International\"\n",
    "answere4 = xy.append(z, ignore_index=True)\n",
    "answere4\n",
    "#answere4.to_csv('ICICI-Output-Case2.csv')"
   ]
  }
 ],
 "metadata": {
  "language_info": {
   "codemirror_mode": {
    "name": "ipython",
    "version": 3
   },
   "file_extension": ".py",
   "mimetype": "text/x-python",
   "name": "python",
   "nbconvert_exporter": "python",
   "pygments_lexer": "ipython3",
   "version": "3.8.1-final"
  },
  "orig_nbformat": 2,
  "kernelspec": {
   "name": "python38164bitce20540ef0694fb595c66c3500902f7d",
   "display_name": "Python 3.8.1 64-bit"
  }
 },
 "nbformat": 4,
 "nbformat_minor": 2
}